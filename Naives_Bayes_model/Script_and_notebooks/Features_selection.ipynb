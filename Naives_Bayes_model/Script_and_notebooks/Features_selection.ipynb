{
 "cells": [
  {
   "cell_type": "code",
   "execution_count": null,
   "id": "b76dbb7b-c39d-4e4c-9b3c-705e80f3b362",
   "metadata": {},
   "outputs": [],
   "source": [
    "# importing useful package\n",
    "import pandas as pd\n",
    "import numpy as np\n",
    "import pickle \n",
    "import random\n",
    "\n",
    "import preprocessing"
   ]
  },
  {
   "attachments": {},
   "cell_type": "markdown",
   "id": "88069a52-3c21-4b40-950c-ad1896eb592f",
   "metadata": {},
   "source": [
    "## Training a model on our data"
   ]
  },
  {
   "cell_type": "code",
   "execution_count": null,
   "id": "7c031712-0ad3-4d54-94d9-fa1eec6e9b52",
   "metadata": {},
   "outputs": [],
   "source": [
    "# loading a priori knowledge on MS\n",
    "All_MS = pd.read_pickle('../Preprocessed_data/WES_wide_NAfrequency.pkl.gz')\n",
    "\n",
    "# loading the mutation profile of train and test cohort\n",
    "dt = pd.read_csv('../Preprocessed_data/mutation_profile_pval05.txt', sep=\"\\t\")\n",
    "dt = dt.set_index('Row.names')\n",
    "\n",
    "# Only keep Nipicol patients (Train cohort)\n",
    "dt= dt[dt['Cohort']=='NIPICOL']\n",
    "\n",
    "# 1/ We restricted analysis to microsatellites\n",
    "#Only keep MS and cohort columns\n",
    "dt = dt.filter(regex='chr|Cohort')\n",
    "\n",
    "### Filtering of MS and imputation #####\n",
    "\n",
    "# on Nipicol : filterout MS with too much NA and impute remaining ones\n",
    "dt_tree_NIPICOL,features_NIPICOL = preprocessing.clean_NA_duplicate_input(dt,filtcoef=0.05)\n",
    "\n",
    "# Defines MS with law NA frequency in our private and public non-metastatic WES cohorte\n",
    "lowNA = All_MS[All_MS['NaFreq']<0.05]\n",
    "\n",
    "# filter out MS generaly miss covered in our private and public non-metastatic WES cohorte\n",
    "dt_tree_NIPICOL = dt_tree_NIPICOL[dt_tree_NIPICOL.columns.intersection(lowNA['hg38chridNIPICOLformat'])].astype(int)"
   ]
  },
  {
   "cell_type": "code",
   "execution_count": null,
   "id": "e7627005-4740-4753-962c-6ece2dbb21af",
   "metadata": {},
   "outputs": [],
   "source": [
    "# Final dataframe used for the training of the Naive Bayes model\n",
    "dt_tree_NIPICOL"
   ]
  },
  {
   "cell_type": "code",
   "execution_count": null,
   "id": "2ff4c556-ab98-4fb3-a706-901b9585804e",
   "metadata": {},
   "outputs": [],
   "source": [
    "print( 'The final 19MS selected for the signature are :\\n',\n",
    "    dt_tree_NIPICOL.columns.values)"
   ]
  }
 ],
 "metadata": {
  "kernelspec": {
   "display_name": "Python 3 (ipykernel)",
   "language": "python",
   "name": "python3"
  },
  "language_info": {
   "codemirror_mode": {
    "name": "ipython",
    "version": 3
   },
   "file_extension": ".py",
   "mimetype": "text/x-python",
   "name": "python",
   "nbconvert_exporter": "python",
   "pygments_lexer": "ipython3",
   "version": "3.8.15"
  }
 },
 "nbformat": 4,
 "nbformat_minor": 5
}
