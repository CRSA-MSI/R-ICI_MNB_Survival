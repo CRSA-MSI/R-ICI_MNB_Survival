{
 "cells": [
  {
   "cell_type": "code",
   "execution_count": null,
   "id": "a42ce1d1-b45e-4ce1-899d-da29fc85c3cb",
   "metadata": {},
   "outputs": [],
   "source": [
    "# importing useful package\n",
    "import pandas as pd\n",
    "import pickle\n",
    "\n",
    "import preprocessing"
   ]
  },
  {
   "cell_type": "code",
   "execution_count": null,
   "id": "9cb4abc8-c197-4f16-92d7-4aaf693e769b",
   "metadata": {},
   "outputs": [],
   "source": [
    "### loading the predictor alreaddy fitted\n",
    "loaded_model = pickle.load(open('../Preprocessed_data/NBclassifier.sav', 'rb'))"
   ]
  },
  {
   "cell_type": "code",
   "execution_count": null,
   "id": "edf32167-9199-43fe-bdf2-612dc0ba93cb",
   "metadata": {},
   "outputs": [],
   "source": [
    "print(\"Microsatellite to inspect in your data\")\n",
    "loaded_model.feature_names_in_"
   ]
  },
  {
   "cell_type": "code",
   "execution_count": null,
   "id": "8414db64-bd46-45d9-a919-c352193a2df7",
   "metadata": {
    "tags": []
   },
   "outputs": [],
   "source": [
    "### open a dataframe with columns names == chromosome id (chr:position)\n",
    "### and with rownames == patient id\n",
    "\n",
    "dt_mutations = pd.read_table(\"../Preprocessed_data/mutation_profile_pval05.txt\")\n",
    "dt_mutations = dt_mutations.set_index('Row.names')\n",
    "dt_mutations = dt_mutations[loaded_model.feature_names_in_]"
   ]
  },
  {
   "cell_type": "code",
   "execution_count": null,
   "id": "b93d39eb-b406-4f3f-8dc6-3688d30b2ec8",
   "metadata": {},
   "outputs": [],
   "source": [
    "### preprocessing\n",
    "# imputation based on the mutation frequency of the MS\n",
    "dt_mutations = dt_mutations.apply(preprocessing.impute_sample,random_st=0)"
   ]
  },
  {
   "cell_type": "code",
   "execution_count": null,
   "id": "ec35c6ad-cc6f-43be-b899-c8a5d084fc4f",
   "metadata": {},
   "outputs": [],
   "source": [
    "### prediction\n",
    "\n",
    "risk_score = pd.DataFrame(loaded_model.predict_proba(dt_mutations),index=dt_mutations.index)[1]\n",
    "### Patient with risk_score >"
   ]
  },
  {
   "cell_type": "code",
   "execution_count": null,
   "id": "3ec39064-c03c-4b31-8093-eb6447174a19",
   "metadata": {},
   "outputs": [],
   "source": [
    "risk_score"
   ]
  }
 ],
 "metadata": {
  "kernelspec": {
   "display_name": "Python 3 (ipykernel)",
   "language": "python",
   "name": "python3"
  },
  "language_info": {
   "codemirror_mode": {
    "name": "ipython",
    "version": 3
   },
   "file_extension": ".py",
   "mimetype": "text/x-python",
   "name": "python",
   "nbconvert_exporter": "python",
   "pygments_lexer": "ipython3",
   "version": "3.10.9"
  }
 },
 "nbformat": 4,
 "nbformat_minor": 5
}
